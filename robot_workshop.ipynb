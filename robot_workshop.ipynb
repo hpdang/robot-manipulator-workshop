{
 "cells": [
  {
   "cell_type": "markdown",
   "metadata": {
    "slideshow": {
     "slide_type": "slide"
    }
   },
   "source": [
    "<center><h1> Build a Robot Manipulator with Pocket Science Lab  </h1>\n",
    "<center><img src=\"images/robotics_arm.png\" alt=\"Robotics Arm\"></center>\n",
    "<center><img src=\"images/fossasa_logo.png\" alt=\"FOSSAsia\"></center>\n",
    "<h4> marcogg@marcogg.com </h4>\n"
   ]
  },
  {
   "cell_type": "markdown",
   "metadata": {
    "slideshow": {
     "slide_type": "slide"
    }
   },
   "source": [
    "<center><img src=\"https://i.imgflip.com/30cdrx.jpg\" title=\"made at imgflip.com\"/></center>"
   ]
  },
  {
   "cell_type": "markdown",
   "metadata": {
    "slideshow": {
     "slide_type": "subslide"
    }
   },
   "source": [
    "<h1><center>Learn the ways of open source robotics you must...</center></h1>\n",
    "\n",
    "<center><img src=\"images/yoda.png\" alt=\"yoda\"></center>"
   ]
  },
  {
   "cell_type": "markdown",
   "metadata": {
    "slideshow": {
     "slide_type": "slide"
    }
   },
   "source": [
    "<center><h1>Project Based Learning</h1></center>"
   ]
  },
  {
   "cell_type": "markdown",
   "metadata": {
    "slideshow": {
     "slide_type": "subslide"
    }
   },
   "source": [
    "<h1><center>What to learn?</center></h1>\n",
    "<center><img src=\"images/ik.png\" alt=\"ik\"></center>"
   ]
  },
  {
   "cell_type": "markdown",
   "metadata": {
    "slideshow": {
     "slide_type": "subslide"
    }
   },
   "source": [
    "<h1><center>How to learn?</center></h1>\n",
    "<center><img src=\"images/robot.jpg\" alt=\"robot\"></center>"
   ]
  },
  {
   "cell_type": "markdown",
   "metadata": {
    "slideshow": {
     "slide_type": "slide"
    }
   },
   "source": [
    "<center><h1>What do we need?</h1></center>"
   ]
  },
  {
   "cell_type": "markdown",
   "metadata": {
    "slideshow": {
     "slide_type": "subslide"
    }
   },
   "source": [
    "## &nbsp; &nbsp; &nbsp; &nbsp; - Body\n",
    "## &nbsp; &nbsp; &nbsp; &nbsp; - Interface\n",
    "## &nbsp; &nbsp; &nbsp; &nbsp; - Sensors\n",
    "## &nbsp; &nbsp; &nbsp; &nbsp; - Actuators\n",
    "## &nbsp; &nbsp; &nbsp; &nbsp; - Brain"
   ]
  },
  {
   "cell_type": "markdown",
   "metadata": {
    "slideshow": {
     "slide_type": "subslide"
    }
   },
   "source": [
    "## &nbsp; &nbsp; &nbsp; &nbsp; - Body -> Laser cut wood\n",
    "## &nbsp; &nbsp; &nbsp; &nbsp; - Interface -> PSLab\n",
    "## &nbsp; &nbsp; &nbsp; &nbsp; - Sensor (not this time)\n",
    "## &nbsp; &nbsp; &nbsp; &nbsp; - Actuators -> Servo motors\n",
    "## &nbsp; &nbsp; &nbsp; &nbsp; - Brain ->  Laptop with Python"
   ]
  },
  {
   "cell_type": "markdown",
   "metadata": {
    "slideshow": {
     "slide_type": "slide"
    }
   },
   "source": [
    "<center><h1>The Body:</h1></center>\n",
    "<center><img src=\"images/mearm_logo.png\" alt=\"mearm\"></center>"
   ]
  },
  {
   "cell_type": "markdown",
   "metadata": {
    "slideshow": {
     "slide_type": "subslide"
    }
   },
   "source": [
    "<center><img src=\"images/mearm_wood.png\" alt=\"Mearm Wood\"></center>"
   ]
  },
  {
   "cell_type": "markdown",
   "metadata": {
    "slideshow": {
     "slide_type": "slide"
    }
   },
   "source": [
    "<center><h1>The Interface:</h1></center>\n",
    "<center><img src=\"images/pslab_logo.png\" alt=\"PSLab\"></center>"
   ]
  },
  {
   "cell_type": "markdown",
   "metadata": {
    "slideshow": {
     "slide_type": "subslide"
    }
   },
   "source": [
    "<center><img src=\"images/wtf.jpg\" alt=\"wtf\"></center>"
   ]
  },
  {
   "cell_type": "markdown",
   "metadata": {
    "slideshow": {
     "slide_type": "subslide"
    }
   },
   "source": [
    "<center><img src=\"images/pslab.png\" alt=\"pslab\">\n",
    "\n",
    "<h2> USB Powered Smartphone Extension Open Hardware Device for Open Science Experiments <h2>"
   ]
  },
  {
   "cell_type": "markdown",
   "metadata": {
    "slideshow": {
     "slide_type": "subslide"
    }
   },
   "source": [
    "### &nbsp; &nbsp; &nbsp; &nbsp; - Array of useful control and measurement tools\n",
    "### &nbsp; &nbsp; &nbsp; &nbsp; - Can be accessed through:\n",
    "#### &nbsp; &nbsp; &nbsp; &nbsp; &nbsp;&nbsp;  - PSLab Desktop app\n",
    "#### &nbsp; &nbsp; &nbsp; &nbsp; &nbsp;&nbsp;  - Smartphone PSLab Android app\n",
    "#### &nbsp; &nbsp; &nbsp; &nbsp; &nbsp;&nbsp;  - Your own apps\n",
    "### &nbsp; &nbsp; &nbsp; &nbsp; - The integrated components can be used by pins"
   ]
  },
  {
   "cell_type": "markdown",
   "metadata": {
    "slideshow": {
     "slide_type": "subslide"
    }
   },
   "source": [
    "<center><h1>Oscilloscope:</h1></center>\n",
    "<center><img src=\"images/oscilloscope.png\" alt=\"oscilloscope\"></center>"
   ]
  },
  {
   "cell_type": "markdown",
   "metadata": {
    "slideshow": {
     "slide_type": "subslide"
    }
   },
   "source": [
    "<center><h1>Power Source:</h1></center>\n",
    "<center><img src=\"images/power_source.png\" alt=\"Power Source\"></center>"
   ]
  },
  {
   "cell_type": "markdown",
   "metadata": {
    "slideshow": {
     "slide_type": "subslide"
    }
   },
   "source": [
    "<center><h1>Multimeter:</h1></center>\n",
    "<center><img src=\"images/multimeter.png\" alt=\"Multimeter\"></center>"
   ]
  },
  {
   "cell_type": "markdown",
   "metadata": {
    "slideshow": {
     "slide_type": "subslide"
    }
   },
   "source": [
    "<center><h1>Wave Generator:</h1></center>\n",
    "<center><img src=\"images/wave_generator.png\" alt=\"Wave Generator\"></center>"
   ]
  },
  {
   "cell_type": "markdown",
   "metadata": {
    "slideshow": {
     "slide_type": "subslide"
    }
   },
   "source": [
    "<center><h1>Logic Analyzer:</h1></center>\n",
    "<center><img src=\"images/logic_analyzer.png\" alt=\"Logic Analyzer\"></center>"
   ]
  },
  {
   "cell_type": "markdown",
   "metadata": {
    "slideshow": {
     "slide_type": "subslide"
    }
   },
   "source": [
    "<center><img src=\"images/pslab_front.png\" alt=\"PSLab front\"></center>\n",
    "   "
   ]
  },
  {
   "cell_type": "markdown",
   "metadata": {
    "slideshow": {
     "slide_type": "subslide"
    }
   },
   "source": [
    "<center><img src=\"images/pslab_back.png\" alt=\"PSLab back\"></center>"
   ]
  },
  {
   "cell_type": "markdown",
   "metadata": {
    "slideshow": {
     "slide_type": "slide"
    }
   },
   "source": [
    "<h1><center>The sensors</center></h1>\n",
    "<h1><center>(not this time)</center></h1>"
   ]
  },
  {
   "cell_type": "markdown",
   "metadata": {
    "slideshow": {
     "slide_type": "subslide"
    }
   },
   "source": [
    "<center><img src=\"images/webcam.png\" alt=\"webcam\"></center>"
   ]
  },
  {
   "cell_type": "markdown",
   "metadata": {
    "slideshow": {
     "slide_type": "subslide"
    }
   },
   "source": [
    "<center><img src=\"images/lidar.jpg\" alt=\"webcam\"></center>"
   ]
  },
  {
   "cell_type": "markdown",
   "metadata": {
    "slideshow": {
     "slide_type": "slide"
    }
   },
   "source": [
    "<h1><center>The actuators</center></h1>\n",
    "<h1><center>Servo motors</center></h1>"
   ]
  },
  {
   "cell_type": "markdown",
   "metadata": {
    "slideshow": {
     "slide_type": "subslide"
    }
   },
   "source": [
    "<center><img src=\"images/servo.png\" alt=\"servo\"></center>"
   ]
  },
  {
   "cell_type": "markdown",
   "metadata": {
    "slideshow": {
     "slide_type": "slide"
    }
   },
   "source": [
    "<h1><center>The Brain</center></h1>\n",
    "<h1><center>Your laptop, your code!</center></h1>"
   ]
  },
  {
   "cell_type": "markdown",
   "metadata": {
    "slideshow": {
     "slide_type": "subslide"
    }
   },
   "source": [
    "<h1><center>https://github.com/fossasia/pslab-python</center></h1>\n",
    "<center><img src=\"images/github_python_qr.png\" alt=\"pslab python library\"</center>"
   ]
  },
  {
   "cell_type": "code",
   "execution_count": 10,
   "metadata": {
    "slideshow": {
     "slide_type": "subslide"
    }
   },
   "outputs": [
    {
     "name": "stdout",
     "output_type": "stream",
     "text": [
      "/dev/ttyACM3 .yes. b'PSLab V5'\n",
      "Radio transceiver not installed/not found\n"
     ]
    }
   ],
   "source": [
    "from PSL import sciencelab\n",
    "\n",
    "try:\n",
    "    I = sciencelab.connect()\n",
    "except RuntimeError:\n",
    "    print('Device is not connected');\n",
    "    exit()"
   ]
  },
  {
   "cell_type": "code",
   "execution_count": 11,
   "metadata": {
    "slideshow": {
     "slide_type": "-"
    }
   },
   "outputs": [],
   "source": [
    "I.servo4(90, 0, 0, 0)"
   ]
  },
  {
   "cell_type": "markdown",
   "metadata": {
    "slideshow": {
     "slide_type": "slide"
    }
   },
   "source": [
    "<h1><center>And all of it is Open Source!</center></h1>\n",
    "<br>\n",
    "<center><img src=\"images/omg.gif\" alt=\"OMG!\"></center>"
   ]
  },
  {
   "cell_type": "markdown",
   "metadata": {
    "slideshow": {
     "slide_type": "subslide"
    }
   },
   "source": [
    "<h1><center>Inverse Kinematics cpp code for mearm:</center></h1>\n",
    "<h1><center>https://github.com/phenoptix/me-arm-ik</center></h1>\n",
    "<center><img src=\"images/robot_ik_code.png\" alt=\"Robot IK code\"></center>"
   ]
  },
  {
   "cell_type": "markdown",
   "metadata": {
    "slideshow": {
     "slide_type": "slide"
    }
   },
   "source": [
    "<center><h1> Let's get to work!</h1>\n",
    "<img src=\"images/chuck.gif\" alt=\"Chuck aproves\">\n",
    "<h4> Marco A. Gutiérrez </h4>\n",
    "<h4> marcogg@marcogg.com </h4>\n",
    "<center><img src=\"images/fossasa_logo.png\" alt=\"FOSSAsia\"></center>"
   ]
  }
 ],
 "metadata": {
  "celltoolbar": "Slideshow",
  "kernelspec": {
   "display_name": "Python 3",
   "language": "python",
   "name": "python3"
  },
  "language_info": {
   "codemirror_mode": {
    "name": "ipython",
    "version": 3
   },
   "file_extension": ".py",
   "mimetype": "text/x-python",
   "name": "python",
   "nbconvert_exporter": "python",
   "pygments_lexer": "ipython3",
   "version": "3.6.8"
  },
  "livereveal": {
   "autolaunch": true
  },
  "rise": {
   "theme": "black"
  },
  "toc": {
   "base_numbering": 1,
   "nav_menu": {},
   "number_sections": false,
   "sideBar": true,
   "skip_h1_title": false,
   "title_cell": "Table of Contents",
   "title_sidebar": "Contents",
   "toc_cell": false,
   "toc_position": {},
   "toc_section_display": true,
   "toc_window_display": false
  }
 },
 "nbformat": 4,
 "nbformat_minor": 2
}
